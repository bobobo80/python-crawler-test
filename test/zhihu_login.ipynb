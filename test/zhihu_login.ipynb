{
 "cells": [
  {
   "cell_type": "code",
   "execution_count": 20,
   "metadata": {
    "collapsed": true
   },
   "outputs": [],
   "source": [
    "import requests"
   ]
  },
  {
   "cell_type": "code",
   "execution_count": 26,
   "metadata": {},
   "outputs": [
    {
     "data": {
      "text/plain": [
       "200"
      ]
     },
     "execution_count": 26,
     "metadata": {},
     "output_type": "execute_result"
    }
   ],
   "source": [
    "url = 'https://www.zhihu.com/#signin'\n",
    "headers = {\n",
    "    'User-Agent': 'Mozilla/5.0 (X11; Linux i686) AppleWebKit/537.36 (KHTML, like Gecko) Chrome/57.0.2987.98 Safari/537.36'\n",
    "}\n",
    "res = requests.get(url, headers=headers)\n",
    "res.status_code"
   ]
  },
  {
   "cell_type": "code",
   "execution_count": 27,
   "metadata": {},
   "outputs": [
    {
     "data": {
      "text/plain": [
       "b'<!DOCTYPE html>\\n<html lang=\"zh-CN\" class=\"\">\\n<head>\\n<meta charset=\"utf-8\">\\n<meta http-equiv=\"X-UA-Compatible\" content=\"IE=edge,chrome=1\" />\\n<meta http-equiv=\"X-ZA-Response-Id\" content=\"1f888dc771f74b04\">\\n<meta http-equiv=\"X-ZA-Experiment\" content=\"default:None,ge2:ge2_1,nweb_sticky_sidebar:sticky,new_more:new,live_store:ls_a2_b2_c1_f2,topnavbar_qrcode:topnavbar_qrcode_hide,qa_live_recommendation:recommended_by_rule,ge120:ge120_2,zcm-lighting:zcm,fav_act:default,home_nweb:default,ge3:ge3_9,recommend_readings_on_share:wx_share_algo_recommend,wechat_share_modal:wechat_share_modal_show,qa_sticky_sidebar:sticky_sidebar\">\\n<meta name=\"renderer\" content=\"webkit\" />\\n<meta name=\"description\" content=\"\\xe4\\xb8\\x80\\xe4\\xb8\\xaa\\xe7\\x9c\\x9f\\xe5\\xae\\x9e\\xe7\\x9a\\x84\\xe7\\xbd\\x91\\xe7\\xbb\\x9c\\xe9\\x97\\xae\\xe7\\xad\\x94\\xe7\\xa4\\xbe\\xe5\\x8c\\xba\\xef\\xbc\\x8c\\xe5\\xb8\\xae\\xe5\\x8a\\xa9\\xe4\\xbd\\xa0\\xe5\\xaf\\xbb\\xe6\\x89\\xbe\\xe7\\xad\\x94\\xe6\\xa1\\x88\\xef\\xbc\\x8c\\xe5\\x88\\x86\\xe4\\xba\\xab\\xe7\\x9f\\xa5\\xe8\\xaf\\x86\\xe3\\x80\\x82\"/>\\n<meta name=\"viewport\" content=\"user-scalable=no, width=device-width, initial-scale=1.0, maximum-scale=1.0\"/>\\n<title>\\xe7\\x9f\\xa5\\xe4\\xb9\\x8e - \\xe4\\xb8\\x8e\\xe4\\xb8\\x96\\xe7\\x95\\x8c\\xe5\\x88\\x86\\xe4\\xba\\xab\\xe4\\xbd\\xa0\\xe7\\x9a\\x84\\xe7\\x9f\\xa5\\xe8\\xaf\\x86\\xe3\\x80\\x81\\xe7\\xbb\\x8f\\xe9\\xaa\\x8c\\xe5\\x92\\x8c\\xe8\\xa7\\x81\\xe8\\xa7\\xa3</title>\\n\\n\\n\\n<link rel=\"apple-touch-icon\" href=\"https://static.zhihu.com/static/revved/img/ios/touch-icon-152.87c020b9.png\" sizes=\"152x152\">\\n<link rel=\"apple-touch-icon\" href=\"https://static.zhihu.com/static/revved/img/ios/touch-icon-120.496c913b.png\" sizes=\"120x120\">\\n<link rel=\"apple-touch-icon\" href=\"https://static.zhihu.com/static/revved/img/ios/touch-icon-76.dcf79352.png\" sizes=\"76x76\">\\n<link rel=\"apple-touch-icon\" href=\"https://static.zhihu.com/static/revved/img/ios/touch-icon-60.9911cffb.png\" sizes=\"60x60\">\\n\\n<link rel=\"shortcut icon\" href=\"https://static.zhihu.com/static/favicon.ico\" type=\"image/x-icon\" />\\n<link rel=\"dns-prefetch\" href=\"p1.zhimg.com\"/>\\n<link rel=\"dns-prefetch\" href=\"p2.zhimg.com\"/>\\n<link rel=\"dns-prefetch\" href=\"p3.zhimg.com\"/>\\n<link rel=\"dns-prefetch\" href=\"p4.zhimg.com\"/>\\n<link rel=\"dns-prefetch\" href=\"comet.zhihu.com\"/>\\n<link rel=\"dns-prefetch\" href=\"static.zhihu.com\"/>\\n<link rel=\"dns-prefetch\" href=\"upload.zhihu.com\"/>\\n<link rel=\"stylesheet\" href=\"https://static.zhihu.com/static/revved/-/css/pages/unlogin-index/main.4807c903.css\">\\n<meta name=\"google-site-verification\" content=\"FTeR0c8arOPKh8c5DYh_9uu98_zJbaWw53J-Sch9MTg\" />\\n<meta name=\"baidu-site-verification\" content=\"KPFppAFoYF4Kkdv9\" />\\n<meta property=\"qc:admins\" content=\"00544670776201056375\" />\\n<link rel=\"canonical\" href=\"http://www.zhihu.com\" />\\n<meta id=\"znonce\" name=\"znonce\" content=\"82b94d125fab4eb98469a20d77030ee6\">\\n<!--[if lt IE 9]>\\n<script src=\"https://static.zhihu.com/static/components/respond/dest/respond.min.js\"></script>\\n<link href=\"https://static.zhihu.com/static/components/respond/cross-domain/respond-proxy.html\" id=\"respond-proxy\" rel=\"respond-proxy\" />\\n<link href=\"/static/components/respond/cross-domain/respond.proxy.gif\" id=\"respond-redirect\" rel=\"respond-redirect\" />\\n<script src=\"/static/components/respond/cross-domain/respond.proxy.js\"></script>\\n<![endif]-->\\n<script src=\"https://static.zhihu.com/static/revved/-/js/instant.14757a4a.js\"></script>\\n</head>\\n<body class=\"zhi \">\\n\\n\\n\\n\\n<div class=\"index-main\">\\n<div class=\"index-main-body\">\\n<div class=\"index-header\">\\n\\n<h1 class=\"logo hide-text\">\\xe7\\x9f\\xa5\\xe4\\xb9\\x8e</h1>\\n\\n<h2 class=\"subtitle\">\\xe4\\xb8\\x8e\\xe4\\xb8\\x96\\xe7\\x95\\x8c\\xe5\\x88\\x86\\xe4\\xba\\xab\\xe4\\xbd\\xa0\\xe7\\x9a\\x84\\xe7\\x9f\\xa5\\xe8\\xaf\\x86\\xe3\\x80\\x81\\xe7\\xbb\\x8f\\xe9\\xaa\\x8c\\xe5\\x92\\x8c\\xe8\\xa7\\x81\\xe8\\xa7\\xa3</h2>\\n</div>\\n\\n<div class=\"desk-front sign-flow clearfix sign-flow-simple\">\\n\\n<div class=\"index-tab-navs\">\\n<div class=\"navs-slider\">\\n<a href=\"#signup\" class=\"active\">\\xe6\\xb3\\xa8\\xe5\\x86\\x8c</a>\\n<a href=\"#signin\">\\xe7\\x99\\xbb\\xe5\\xbd\\x95</a>\\n<span class=\"navs-slider-bar\"></span>\\n</div>\\n</div>\\n\\n\\n<div class=\"view view-signin\" data-za-module=\"SignInForm\">\\n<form method=\"POST\">\\n<input type=\"hidden\" name=\"_xsrf\" value=\"1803598a15b3f7263d08e33a663c67e7\"/>\\n<div class=\"group-inputs\">\\n\\n<div class=\"account input-wrapper\">\\n\\n<input type=\"text\" name=\"account\" aria-label=\"\\xe6\\x89\\x8b\\xe6\\x9c\\xba\\xe5\\x8f\\xb7\\xe6\\x88\\x96\\xe9\\x82\\xae\\xe7\\xae\\xb1\" placeholder=\"\\xe6\\x89\\x8b\\xe6\\x9c\\xba\\xe5\\x8f\\xb7\\xe6\\x88\\x96\\xe9\\x82\\xae\\xe7\\xae\\xb1\" required>\\n</div>\\n<div class=\"verification input-wrapper\">\\n<input type=\"password\" name=\"password\" aria-label=\"\\xe5\\xaf\\x86\\xe7\\xa0\\x81\" placeholder=\"\\xe5\\xaf\\x86\\xe7\\xa0\\x81\" required /><button type=\"button\" class=\"send-code-button\">\\xe8\\x8e\\xb7\\xe5\\x8f\\x96\\xe9\\xaa\\x8c\\xe8\\xaf\\x81\\xe7\\xa0\\x81</button>\\n</div>\\n\\n<div class=\"Captcha input-wrapper\" data-type=\"cn\" data-za-module=\"Captcha\">\\n<div class=\"Captcha-operate\">\\n<input type=\"hidden\" name=\"captcha\" required data-rule-required=\"true\" data-msg-required=\"\\xe8\\xaf\\xb7\\xe7\\x82\\xb9\\xe5\\x87\\xbb\\xe5\\x9b\\xbe\\xe4\\xb8\\xad\\xe6\\x89\\x80\\xe6\\x9c\\x89\\xe5\\x80\\x92\\xe7\\xab\\x8b\\xe7\\x9a\\x84\\xe6\\x96\\x87\\xe5\\xad\\x97\">\\n<input type=\"hidden\" name=\"captcha_type\" value=\"cn\" required>\\n<label class=\"Captcha-prompt\">\\xe8\\xaf\\xb7\\xe7\\x82\\xb9\\xe5\\x87\\xbb\\xe5\\x9b\\xbe\\xe4\\xb8\\xad\\xe6\\x89\\x80\\xe6\\x9c\\x89\\xe5\\x80\\x92\\xe7\\xab\\x8b\\xe7\\x9a\\x84\\xe6\\x96\\x87\\xe5\\xad\\x97</label>\\n<span class=\"Captcha-refresh js-refreshCaptcha sprite-index-icon-refresh\"></span>\\n</div>\\n<div class=\"Captcha-imageConatiner\">\\n<img class=\"Captcha-image\" alt=\"\\xe9\\xaa\\x8c\\xe8\\xaf\\x81\\xe7\\xa0\\x81\" >\\n</div>\\n</div>\\n\\n</div>\\n<div class=\"button-wrapper command\">\\n<button class=\"sign-button submit\" type=\"submit\">\\xe7\\x99\\xbb\\xe5\\xbd\\x95</button>\\n</div>\\n<div class=\"signin-misc-wrapper clearfix\">\\n\\n<button type=\"button\" class=\"signin-switch-button\">\\xe6\\x89\\x8b\\xe6\\x9c\\xba\\xe9\\xaa\\x8c\\xe8\\xaf\\x81\\xe7\\xa0\\x81\\xe7\\x99\\xbb\\xe5\\xbd\\x95</button>\\n\\n<a class=\"unable-login\" href=\"#\">\\xe6\\x97\\xa0\\xe6\\xb3\\x95\\xe7\\x99\\xbb\\xe5\\xbd\\x95\\xef\\xbc\\x9f</a>\\n</div>\\n\\n<div class=\"other-signup-wrapper\" data-za-module=\"SNSSignIn\">\\n<span class=\"name signin-switch-qrcode-buttons\">\\xe4\\xba\\x8c\\xe7\\xbb\\xb4\\xe7\\xa0\\x81\\xe7\\x99\\xbb\\xe5\\xbd\\x95</span>\\n<span class=\"signup-footer-separate\"> \\xc2\\xb7 </span>\\n<span class=\"name signup-social-buttons js-toggle-sns-buttons\">\\xe7\\xa4\\xbe\\xe4\\xba\\xa4\\xe5\\xb8\\x90\\xe5\\x8f\\xb7\\xe7\\x99\\xbb\\xe5\\xbd\\x95</span>\\n\\n<div class=\"sns-buttons\">\\n<a title=\"\\xe5\\xbe\\xae\\xe4\\xbf\\xa1\\xe7\\x99\\xbb\\xe5\\xbd\\x95\" class=\"js-bindwechat\" href=\"#\"><i class=\"sprite-index-icon-wechat\"></i></a>\\n<a title=\"\\xe5\\xbe\\xae\\xe5\\x8d\\x9a\\xe7\\x99\\xbb\\xe5\\xbd\\x95\" class=\"js-bindweibo\" href=\"#\"><i class=\"sprite-index-icon-weibo\"></i></a>\\n<a title=\"QQ \\xe7\\x99\\xbb\\xe5\\xbd\\x95\" class=\"js-bindqq\" href=\"#\"><i class=\"sprite-index-icon-qq\"></i></a>\\n</div>\\n\\n\\n</div>\\n\\n</form>\\n\\n<div class=\"qrcode-signin-container\">\\n<div class=\"qrcode-signin-step1\">\\n<div class=\"qrcode-signin-img-wrapper\">\\n<img src=\"/static/img/spinner/grey-loading.gif\" class=\"qrcode-signin-loading\"/>\\n</div>\\n<p>\\xe6\\x89\\x93\\xe5\\xbc\\x80<a href=\"https://www.zhihu.com/app/\" target=\"_blank\">\\xe7\\x9f\\xa5\\xe4\\xb9\\x8e App</a></p>\\n<p>\\xe5\\x9c\\xa8\\xe3\\x80\\x8c\\xe6\\x9b\\xb4\\xe5\\xa4\\x9a\\xe3\\x80\\x8d\\xe9\\xa1\\xb5\\xe9\\x9d\\xa2\\xe5\\x8f\\xb3\\xe4\\xb8\\x8a\\xe8\\xa7\\x92\\xe6\\x89\\x93\\xe5\\xbc\\x80\\xe6\\x89\\xab\\xe4\\xb8\\x80\\xe6\\x89\\xab</p>\\n<div class=\"qrcode-signin-cut-button\">\\n<span class=\"signin-switch-password\">\\xe4\\xbd\\xbf\\xe7\\x94\\xa8\\xe5\\xaf\\x86\\xe7\\xa0\\x81\\xe7\\x99\\xbb\\xe5\\xbd\\x95</span>\\n</div>\\n</div>\\n<div class=\"qrcode-signin-step2\">\\n<div class=\"qrcode-signin-scan-status\"></div>\\n<p class=\"qrcode-signin-scan-tips\">\\xe6\\x89\\xab\\xe6\\x8f\\x8f\\xe6\\x88\\x90\\xe5\\x8a\\x9f</p>\\n<p>\\xe8\\xaf\\xb7\\xe5\\x9c\\xa8\\xe6\\x89\\x8b\\xe6\\x9c\\xba\\xe4\\xb8\\x8a\\xe3\\x80\\x8c\\xe7\\xa1\\xae\\xe8\\xae\\xa4\\xe7\\x99\\xbb\\xe5\\xbd\\x95\\xe3\\x80\\x8d</p>\\n<div class=\"qrcode-signin-cut-button\">\\n<span class=\"qrcode-goto-scan\">\\xe8\\xbf\\x94\\xe5\\x9b\\x9e\\xe4\\xba\\x8c\\xe7\\xbb\\xb4\\xe7\\xa0\\x81</span>\\n</div>\\n</div>\\n<div class=\"qrcode-signin-failure\">\\n<div class=\"qrcode-signin-failure-icon\"></div>\\n<p class=\"qrcode-signin-failure-message\"></p>\\n<div class=\"qrcode-signin-cut-button\">\\n<span class=\"signin-switch-password\">\\xe4\\xbd\\xbf\\xe7\\x94\\xa8\\xe5\\xaf\\x86\\xe7\\xa0\\x81\\xe7\\x99\\xbb\\xe5\\xbd\\x95</span>\\n</div>\\n</div>\\n</div>\\n\\n\\n\\n<div class=\"QRCode\">\\n<button class=\"QRCode-toggleButton\">\\n<span class=\"sprite-global-icon-qrcode\"></span>\\n<span class=\"QRCode-toggleButtonText \">\\xe4\\xb8\\x8b\\xe8\\xbd\\xbd\\xe7\\x9f\\xa5\\xe4\\xb9\\x8e App</span>\\n</button>\\n<div class=\"QRCode-card\">\\n<div class=\"QRCode-image\"></div>\\n<div class=\"sprite-index-icon-arrow\"></div>\\n</div>\\n</div>\\n\\n\\n</div>\\n<div class=\"view view-signup selected\" data-za-module=\"SignUpForm\">\\n<form class=\"zu-side-login-box\" action=\"/register/email\" id=\"sign-form-1\" autocomplete=\"off\" method=\"POST\">\\n<input type=\"password\" hidden> \\n<input type=\"hidden\" name=\"_xsrf\" value=\"1803598a15b3f7263d08e33a663c67e7\"/>\\n<div class=\"group-inputs\">\\n\\n\\n<div class=\"name input-wrapper\">\\n<input required type=\"text\" name=\"fullname\" aria-label=\"\\xe5\\xa7\\x93\\xe5\\x90\\x8d\" placeholder=\"\\xe5\\xa7\\x93\\xe5\\x90\\x8d\">\\n</div>\\n<div class=\"email input-wrapper\">\\n\\n<input required type=\"text\" class=\"account\" name=\"phone_num\" aria-label=\"\\xe6\\x89\\x8b\\xe6\\x9c\\xba\\xe5\\x8f\\xb7\" placeholder=\"\\xe6\\x89\\x8b\\xe6\\x9c\\xba\\xe5\\x8f\\xb7\">\\n\\n</div>\\n\\n<div class=\"input-wrapper\">\\n<input required type=\"password\" name=\"password\" aria-label=\"\\xe5\\xaf\\x86\\xe7\\xa0\\x81\" placeholder=\"\\xe5\\xaf\\x86\\xe7\\xa0\\x81\\xef\\xbc\\x88\\xe4\\xb8\\x8d\\xe5\\xb0\\x91\\xe4\\xba\\x8e 6 \\xe4\\xbd\\x8d\\xef\\xbc\\x89\" autocomplete=\"off\">\\n</div>\\n\\n<div class=\"Captcha input-wrapper\" data-type=\"cn\" data-za-module=\"Captcha\">\\n<div class=\"Captcha-operate\">\\n<input type=\"hidden\" name=\"captcha\" required data-rule-required=\"true\" data-msg-required=\"\\xe8\\xaf\\xb7\\xe7\\x82\\xb9\\xe5\\x87\\xbb\\xe5\\x9b\\xbe\\xe4\\xb8\\xad\\xe6\\x89\\x80\\xe6\\x9c\\x89\\xe5\\x80\\x92\\xe7\\xab\\x8b\\xe7\\x9a\\x84\\xe6\\x96\\x87\\xe5\\xad\\x97\">\\n<input type=\"hidden\" name=\"captcha_type\" value=\"cn\" required>\\n<label class=\"Captcha-prompt\">\\xe8\\xaf\\xb7\\xe7\\x82\\xb9\\xe5\\x87\\xbb\\xe5\\x9b\\xbe\\xe4\\xb8\\xad\\xe6\\x89\\x80\\xe6\\x9c\\x89\\xe5\\x80\\x92\\xe7\\xab\\x8b\\xe7\\x9a\\x84\\xe6\\x96\\x87\\xe5\\xad\\x97</label>\\n<span class=\"Captcha-refresh js-refreshCaptcha sprite-index-icon-refresh\"></span>\\n</div>\\n<div class=\"Captcha-imageConatiner\">\\n<img class=\"Captcha-image\" alt=\"\\xe9\\xaa\\x8c\\xe8\\xaf\\x81\\xe7\\xa0\\x81\" >\\n</div>\\n</div>\\n\\n</div>\\n<div class=\"button-wrapper command\">\\n<button class=\"sign-button submit\" type=\"submit\">\\xe6\\xb3\\xa8\\xe5\\x86\\x8c\\xe7\\x9f\\xa5\\xe4\\xb9\\x8e</button>\\n</div>\\n</form>\\n\\n<p class=\"agreement-tip\">\\xe7\\x82\\xb9\\xe5\\x87\\xbb\\xe3\\x80\\x8c\\xe6\\xb3\\xa8\\xe5\\x86\\x8c\\xe3\\x80\\x8d\\xe6\\x8c\\x89\\xe9\\x92\\xae\\xef\\xbc\\x8c\\xe5\\x8d\\xb3\\xe4\\xbb\\xa3\\xe8\\xa1\\xa8\\xe4\\xbd\\xa0\\xe5\\x90\\x8c\\xe6\\x84\\x8f<a href=\"/terms\" target=\"_blank\">\\xe3\\x80\\x8a\\xe7\\x9f\\xa5\\xe4\\xb9\\x8e\\xe5\\x8d\\x8f\\xe8\\xae\\xae\\xe3\\x80\\x8b</a></p>\\n\\n<div class=\"QRCode\">\\n<button class=\"QRCode-toggleButton\">\\n<span class=\"sprite-global-icon-qrcode\"></span>\\n<span class=\"QRCode-toggleButtonText \">\\xe4\\xb8\\x8b\\xe8\\xbd\\xbd\\xe7\\x9f\\xa5\\xe4\\xb9\\x8e App</span>\\n</button>\\n<div class=\"QRCode-card\">\\n<div class=\"QRCode-image\"></div>\\n<div class=\"sprite-index-icon-arrow\"></div>\\n</div>\\n</div>\\n\\n\\n\\n</div>\\n</div>\\n</div>\\n\\n</div>\\n<div class=\"footer\">\\n\\n<span>&copy; 2017 \\xe7\\x9f\\xa5\\xe4\\xb9\\x8e</span>\\n<span class=\"dot\">\\xc2\\xb7</span>\\n<a target=\"_blank\" href=\"https://zhuanlan.zhihu.com\">\\xe7\\x9f\\xa5\\xe4\\xb9\\x8e\\xe4\\xb8\\x93\\xe6\\xa0\\x8f</a>\\n<span class=\"dot\">\\xc2\\xb7</span>\\n<a target=\"_blank\" href=\"/roundtable\">\\xe7\\x9f\\xa5\\xe4\\xb9\\x8e\\xe5\\x9c\\x86\\xe6\\xa1\\x8c</a>\\n<span class=\"dot\">\\xc2\\xb7</span>\\n<a target=\"_blank\" href=\"/explore\" data-za-c=\"explore\" data-za-a=\"visit_explore\" data-za-l=\"home_bottom_explore\">\\xe5\\x8f\\x91\\xe7\\x8e\\xb0</a>\\n<span class=\"dot\">\\xc2\\xb7</span>\\n<a target=\"_blank\" href=\"/app\">\\xe7\\xa7\\xbb\\xe5\\x8a\\xa8\\xe5\\xba\\x94\\xe7\\x94\\xa8</a>\\n<span class=\"dot\">\\xc2\\xb7</span>\\n\\n\\n<a href=\"/org/signin\" class=\"footer-mobile-show\">\\xe4\\xbd\\xbf\\xe7\\x94\\xa8\\xe6\\x9c\\xba\\xe6\\x9e\\x84\\xe5\\xb8\\x90\\xe5\\x8f\\xb7\\xe7\\x99\\xbb\\xe5\\xbd\\x95</a>\\n\\n<span class=\"dot footer-mobile-show\">\\xc2\\xb7</span>\\n\\n<a href=\"/contact\" class=\"footer-mobile-show\">\\xe8\\x81\\x94\\xe7\\xb3\\xbb\\xe6\\x88\\x91\\xe4\\xbb\\xac</a>\\n<span class=\"dot\">\\xc2\\xb7</span>\\n<a target=\"_blank\" href=\"/careers\">\\xe6\\x9d\\xa5\\xe7\\x9f\\xa5\\xe4\\xb9\\x8e\\xe5\\xb7\\xa5\\xe4\\xbd\\x9c</a>\\n<br />\\n<a href=\"http://www.miibeian.gov.cn/\" target=\"_blank\">\\xe4\\xba\\xac ICP \\xe8\\xaf\\x81 110745 \\xe5\\x8f\\xb7</a>\\n<span class=\"dot\">\\xc2\\xb7</span>\\n<span>\\xe4\\xba\\xac\\xe5\\x85\\xac\\xe7\\xbd\\x91\\xe5\\xae\\x89\\xe5\\xa4\\x87 11010802010035 \\xe5\\x8f\\xb7</span>\\n<span class=\"dot\">\\xc2\\xb7</span>\\n<a href=\"http://zhstatic.zhihu.com/assets/zhihu/publish-license.jpg\" target=\"_blank\">\\xe5\\x87\\xba\\xe7\\x89\\x88\\xe7\\x89\\xa9\\xe7\\xbb\\x8f\\xe8\\x90\\xa5\\xe8\\xae\\xb8\\xe5\\x8f\\xaf\\xe8\\xaf\\x81</a>\\n<span class=\"dot\">\\xc2\\xb7</span>\\n<a target=\"_blank\" href=\"/jubao\">\\xe4\\xbe\\xb5\\xe6\\x9d\\x83\\xe6\\x8a\\x95\\xe8\\xaf\\x89</a>\\n<span class=\"dot\">\\xc2\\xb7</span>\\n<a target=\"_blank\" href=\"http://www.12377.cn\">\\xe7\\xbd\\x91\\xe4\\xb8\\x8a\\xe6\\x9c\\x89\\xe5\\xae\\xb3\\xe4\\xbf\\xa1\\xe6\\x81\\xaf\\xe4\\xb8\\xbe\\xe6\\x8a\\xa5\\xe4\\xb8\\x93\\xe5\\x8c\\xba</a>\\n<span class=\"dot\">\\xc2\\xb7</span>\\n<span>\\xe8\\xbf\\x9d\\xe6\\xb3\\x95\\xe5\\x92\\x8c\\xe4\\xb8\\x8d\\xe8\\x89\\xaf\\xe4\\xbf\\xa1\\xe6\\x81\\xaf\\xe4\\xb8\\xbe\\xe6\\x8a\\xa5\\xef\\xbc\\x9a010-82716601</span>\\n\\n<div class=\"chengxing\">\\n<a id=\\'___szfw_logo___\\' href=\\'https://credit.szfw.org/CX20170607038331320388.html\\' target=\\'_blank\\'>\\n<img src=\"https://static.zhihu.com/static/revved/img/index/chengxing_logo@2x.65dc76e8.png\" border=\\'0\\' />\\n</a>\\n<script type=\\'text/javascript\\'>(function(){document.getElementById(\\'___szfw_logo___\\').oncontextmenu = function(){return false;}})();</script>\\n</div>\\n</div>\\n\\n\\n\\n<script type=\"text/json\" class=\"json-inline\" data-name=\"disabled_components\">[\"back_to_top\"]</script>\\n<script type=\"text/json\" class=\"json-inline\" data-name=\"current_user\">[\"\",\"\",\"\",\"-1\",\"\",0,0]</script>\\n<script type=\"text/json\" class=\"json-inline\" data-name=\"env\">[\"zhihu.com\",\"comet.zhihu.com\",false,null,false,false]</script>\\n\\n<script type=\"text/json\" class=\"json-inline\" data-name=\"ga_vars\">{\"user_created\":0,\"now\":1499314501000,\"abtest_mask\":\"------------------------------\",\"user_attr\":[0,0,0,\"-\",\"-\"],\"user_hash\":0}</script>\\n\\n<script src=\"https://static.zhihu.com/static/revved/-/js/vendor.cb14a042.js\"></script>\\n<script src=\"https://static.zhihu.com/static/revved/-/js/closure/base.02498411.js\"></script>\\n\\n<script src=\"https://static.zhihu.com/static/revved/-/js/closure/common.d6c46a16.js\"></script>\\n<script src=\"https://static.zhihu.com/static/revved/-/js/closure/page-index.352df081.js\"></script>\\n<meta name=\"entry\" content=\"ZH.entrySignPage\" data-module-id=\"page-index\">\\n\\n\\n<input type=\"hidden\" name=\"_xsrf\" value=\"1803598a15b3f7263d08e33a663c67e7\"/>\\n</body>\\n</html>'"
      ]
     },
     "execution_count": 27,
     "metadata": {},
     "output_type": "execute_result"
    }
   ],
   "source": [
    "res.content"
   ]
  },
  {
   "cell_type": "code",
   "execution_count": 22,
   "metadata": {
    "collapsed": true
   },
   "outputs": [],
   "source": [
    "from lxml import etree"
   ]
  },
  {
   "cell_type": "code",
   "execution_count": 23,
   "metadata": {
    "collapsed": true
   },
   "outputs": [],
   "source": [
    "sel = etree.HTML(res.content)\n",
    "_xsrf = sel.xpath('//input[@name=\"_xsrf\"]/@value')[0]"
   ]
  },
  {
   "cell_type": "code",
   "execution_count": 24,
   "metadata": {},
   "outputs": [
    {
     "data": {
      "text/plain": [
       "200"
      ]
     },
     "execution_count": 24,
     "metadata": {},
     "output_type": "execute_result"
    }
   ],
   "source": [
    "loginurl = 'https://www.zhihu.com/login/email'\n",
    "login_form = {\n",
    "    'email': 'manybobo@qq.com',\n",
    "    'password': 'sul',\n",
    "    '_xsrf': _xsrf,\n",
    "    #'captcha_type': 'cn'\n",
    "}\n",
    "# need captcha\n",
    "res2 = requests.post(url=loginurl, headers=headers, data=login_form)\n",
    "res2.status_code"
   ]
  },
  {
   "cell_type": "code",
   "execution_count": 25,
   "metadata": {},
   "outputs": [
    {
     "data": {
      "text/plain": [
       "b'{\\n    \"r\": 1,\\n    \"errcode\": 1991829,\\n    \\n    \"data\": {\"captcha\":\"\\\\u9a8c\\\\u8bc1\\\\u7801\\\\u9519\\\\u8bef\"},\\n    \\n    \\n    \"msg\": \"\\\\u9a8c\\\\u8bc1\\\\u7801\\\\u9519\\\\u8bef\"\\n    \\n}'"
      ]
     },
     "execution_count": 25,
     "metadata": {},
     "output_type": "execute_result"
    }
   ],
   "source": [
    "res2.content"
   ]
  },
  {
   "cell_type": "code",
   "execution_count": null,
   "metadata": {
    "collapsed": true
   },
   "outputs": [],
   "source": []
  }
 ],
 "metadata": {
  "kernelspec": {
   "display_name": "Python 3",
   "language": "python",
   "name": "python3"
  },
  "language_info": {
   "codemirror_mode": {
    "name": "ipython",
    "version": 3
   },
   "file_extension": ".py",
   "mimetype": "text/x-python",
   "name": "python",
   "nbconvert_exporter": "python",
   "pygments_lexer": "ipython3",
   "version": "3.5.2+"
  }
 },
 "nbformat": 4,
 "nbformat_minor": 2
}
