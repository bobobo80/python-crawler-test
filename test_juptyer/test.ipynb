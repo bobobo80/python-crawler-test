{
 "cells": [
  {
   "cell_type": "code",
   "execution_count": 9,
   "metadata": {
    "collapsed": true
   },
   "outputs": [],
   "source": [
    "import mfw"
   ]
  },
  {
   "cell_type": "code",
   "execution_count": 10,
   "metadata": {},
   "outputs": [],
   "source": [
    "session = mfw.init_session()\n",
    "log_list = mfw.get_place_log_list(session)"
   ]
  },
  {
   "cell_type": "code",
   "execution_count": 11,
   "metadata": {},
   "outputs": [
    {
     "name": "stdout",
     "output_type": "stream",
     "text": [
      " http://www.mafengwo.cn/i/http://www.mafengwo.cn/i/588664.html\n",
      " http://www.mafengwo.cn/i/http://www.mafengwo.cn/i/588664.html\n",
      "·【清明 · 海南】在一岁的时候 想告诉你海的颜色 http://www.mafengwo.cn/i//i/5460989.html\n",
      "这一站三亚  游出不一样的感觉 http://www.mafengwo.cn/i//i/7398203.html\n",
      "GoPro水下摄影全攻略丨潜水必备秘籍 http://www.mafengwo.cn/i//gonglve/ziyouxing/2987.html?cid=1010606\n",
      "APP http://www.mafengwo.cn/i/javascript:void(0);\n",
      "·大手牵小手一起去旅行之遇见淡季的三亚 http://www.mafengwo.cn/i//i/6991040.html\n",
      "不一样的七月份，一份来自海岛的邀约——浪漫三亚 http://www.mafengwo.cn/i//i/7399637.html\n",
      "·你的三亚，我的浓情，与君携手做一周的恋人 http://www.mafengwo.cn/i//i/6871868.html\n",
      "小夫妻的幸福三亚旅~~~ http://www.mafengwo.cn/i//i/7405274.html\n"
     ]
    }
   ],
   "source": [
    "for log in log_list:\n",
    "    print(log.title, log.url)"
   ]
  }
 ],
 "metadata": {
  "kernelspec": {
   "display_name": "Python 3",
   "language": "python",
   "name": "python3"
  },
  "language_info": {
   "codemirror_mode": {
    "name": "ipython",
    "version": 3
   },
   "file_extension": ".py",
   "mimetype": "text/x-python",
   "name": "python",
   "nbconvert_exporter": "python",
   "pygments_lexer": "ipython3",
   "version": "3.5.3"
  }
 },
 "nbformat": 4,
 "nbformat_minor": 2
}
