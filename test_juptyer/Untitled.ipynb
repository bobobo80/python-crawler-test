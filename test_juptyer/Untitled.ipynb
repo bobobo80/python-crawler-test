{
 "cells": [
  {
   "cell_type": "code",
   "execution_count": 3,
   "metadata": {
    "collapsed": true
   },
   "outputs": [],
   "source": [
    "import jieba\n",
    "import jieba.analyse"
   ]
  },
  {
   "cell_type": "code",
   "execution_count": 4,
   "metadata": {},
   "outputs": [
    {
     "name": "stderr",
     "output_type": "stream",
     "text": [
      "Building prefix dict from /usr/lib/python3/dist-packages/jieba/dict.txt ...\n",
      "Dumping model to file cache /tmp/jieba.cache\n",
      "Loading model cost 4.225765705108643 seconds.\n",
      "Prefix dict has been built succesfully.\n"
     ]
    },
    {
     "name": "stdout",
     "output_type": "stream",
     "text": [
      "欧亚 0.7300142700289363\n",
      "吉林 0.659038184373617\n",
      "置业 0.4887134522112766\n",
      "万元 0.3392722481859574\n",
      "增资 0.33582401985234045\n",
      "7000 0.25435675538085106\n",
      "139.13 0.25435675538085106\n",
      "2013 0.25435675538085106\n",
      "4.3 0.25435675538085106\n",
      "实现 0.19900979900382978\n",
      "综合体 0.19480309624702127\n",
      "经营范围 0.19389757253595744\n",
      "亿元 0.1914421623587234\n",
      "在建 0.17541884768425534\n",
      "全资 0.17180164988510638\n",
      "注册资本 0.1712441526\n",
      "百货 0.16734460041382979\n",
      "零售 0.1475057117057447\n",
      "子公司 0.14596045237787234\n",
      "营业 0.13920178509021275\n"
     ]
    }
   ],
   "source": [
    "s = \"此外，公司拟对全资子公司吉林欧亚置业有限公司增资4.3亿元，增资后，吉林欧亚置业注册资本由7000万元增加到5亿元。吉林欧亚置业主要经营范围为房地产开发及百货零售等业务。目前在建吉林欧亚城市商业综合体项目。2013年，实现营业收入0万元，实现净利润-139.13万元。\"\n",
    "for x, w in jieba.analyse.extract_tags(s, withWeight=True):\n",
    "    print('%s %s' % (x, w))"
   ]
  },
  {
   "cell_type": "code",
   "execution_count": 5,
   "metadata": {
    "collapsed": true
   },
   "outputs": [],
   "source": [
    "import pymongo\n",
    "\n",
    "db = pymongo.MongoClient().mfw_crawler\n",
    "\n",
    "logs_col = db['logs-10030']"
   ]
  },
  {
   "cell_type": "code",
   "execution_count": 13,
   "metadata": {},
   "outputs": [],
   "source": [
    "logs = logs_col.find(limit=100)\n",
    "log_text = logs[100]['text_content']"
   ]
  },
  {
   "cell_type": "code",
   "execution_count": 12,
   "metadata": {},
   "outputs": [
    {
     "name": "stdout",
     "output_type": "stream",
     "text": [
      "酒店 0.46736945056688317\n",
      "瑞吉 0.45575359981730207\n",
      "亚龙湾 0.4412697011788857\n",
      "度假 0.43266867344250104\n",
      "三亚 0.38344752602247173\n",
      "童宝 0.18029812740025136\n",
      "石梅湾 0.17528984608357773\n",
      "威斯汀 0.16109965051344782\n",
      "加井岛 0.13021531423351487\n",
      "万宁 0.12376458398563049\n",
      "机场 0.05020585518062841\n",
      "先生 0.04661958579254294\n",
      "我们 0.041201600771977376\n",
      "海鲜 0.03655796618903225\n",
      "房间 0.03408986349707582\n",
      "超级 0.03180804026170926\n",
      "大堂 0.025862971516099707\n",
      "免税店 0.024761701110808543\n",
      "不错 0.02333225989078341\n",
      "凤凰 0.02296848112530792\n"
     ]
    }
   ],
   "source": [
    "for x, w in jieba.analyse.extract_tags(log_text, withWeight=True):\n",
    "    print('%s %s' % (x, w))"
   ]
  },
  {
   "cell_type": "code",
   "execution_count": 14,
   "metadata": {},
   "outputs": [
    {
     "name": "stdout",
     "output_type": "stream",
     "text": [
      "酒店 1.0\n",
      "三亚 0.7191685618778029\n",
      "度假 0.6677786528348395\n",
      "瑞吉 0.6086505021735603\n",
      "亚龙湾 0.601503165777763\n",
      "是 0.44183442295425013\n",
      "去 0.2597696020883801\n",
      "加井岛 0.25331023474428765\n",
      "吃 0.2404843438640427\n",
      "有 0.22952313579170258\n"
     ]
    }
   ],
   "source": [
    "for x, w in jieba.analyse.textrank(log_text, withWeight=True):\n",
    "    print('{} {}'.format(x, w))"
   ]
  }
 ],
 "metadata": {
  "kernelspec": {
   "display_name": "Python 3",
   "language": "python",
   "name": "python3"
  },
  "language_info": {
   "codemirror_mode": {
    "name": "ipython",
    "version": 3
   },
   "file_extension": ".py",
   "mimetype": "text/x-python",
   "name": "python",
   "nbconvert_exporter": "python",
   "pygments_lexer": "ipython3",
   "version": "3.5.3"
  }
 },
 "nbformat": 4,
 "nbformat_minor": 2
}
