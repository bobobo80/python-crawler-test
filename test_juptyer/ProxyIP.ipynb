{
 "cells": [
  {
   "cell_type": "code",
   "execution_count": 12,
   "metadata": {},
   "outputs": [
    {
     "data": {
      "text/plain": [
       "<table border=\"2px\" bordercolor=\"#6699ff\" cellspacing=\"0px\" width=\"100%\">\n",
       "<tr><td>ip</td><td>端口号</td><td>代理位置</td><td>代理类型</td><td>验证时间</td></tr>\n",
       "<tr><td>111.155.116.196</td><td>8123</td><td>北京市</td><td>高匿代理</td><td>2017年08月17日08时 验证</td></tr><tr><td>117.78.35.194</td><td>3128</td><td>北京市</td><td>高匿代理</td><td>2017年08月17日08时 验证</td></tr><tr><td>111.155.116.209</td><td>8123</td><td>北京市</td><td>高匿代理</td><td>2017年08月17日07时 验证</td></tr><tr><td>222.128.189.115</td><td>3128</td><td>北京市</td><td>高匿代理</td><td>2017年08月17日07时 验证</td></tr><tr><td>120.132.71.212</td><td>80</td><td>北京市</td><td>高匿代理</td><td>2017年08月17日06时 验证</td></tr><tr><td>111.155.116.235</td><td>8123</td><td>北京市</td><td>高匿代理</td><td>2017年08月17日06时 验证</td></tr><tr><td>218.241.234.48</td><td>8080</td><td>北京市</td><td>高匿代理</td><td>2017年08月17日05时 验证</td></tr><tr><td>111.13.7.123</td><td>80</td><td>北京市</td><td>高匿代理</td><td>2017年08月17日05时 验证</td></tr><tr><td>111.13.7.123</td><td>80</td><td>北京市</td><td>高匿代理</td><td>2017年08月17日04时 验证</td></tr><tr><td>219.141.189.236</td><td>3128</td><td>北京市</td><td>高匿代理</td><td>2017年08月17日04时 验证</td></tr><tr><td>211.159.171.58</td><td>80</td><td>北京市</td><td>高匿代理</td><td>2017年08月17日03时 验证</td></tr><tr><td>219.235.251.15</td><td>3128</td><td>北京市</td><td>高匿代理</td><td>2017年08月17日03时 验证</td></tr><tr><td>111.155.116.237</td><td>8123</td><td>北京市</td><td>高匿代理</td><td>2017年08月17日02时 验证</td></tr><tr><td>221.219.30.214</td><td>8118</td><td>北京市海淀区</td><td>高匿代理</td><td>2017年08月17日02时 验证</td></tr><tr><td>111.13.2.138</td><td>80</td><td>北京市</td><td>高匿代理</td><td>2017年08月17日01时 验证</td></tr><tr><td>111.155.116.236</td><td>8123</td><td>北京市</td><td>高匿代理</td><td>2017年08月17日01时 验证</td></tr><tr><td>111.155.116.207</td><td>8123</td><td>北京市</td><td>高匿代理</td><td>2017年08月17日00时 验证</td></tr><tr><td>111.155.124.94</td><td>8123</td><td>北京市</td><td>高匿代理</td><td>2017年08月17日00时 验证</td></tr></table>"
      ]
     },
     "execution_count": 12,
     "metadata": {},
     "output_type": "execute_result"
    }
   ],
   "source": [
    "import requests\n",
    "import re\n",
    "from bs4 import BeautifulSoup\n",
    "\n",
    "base_url = 'http://www.66ip.cn/areaindex_1/'\n",
    "ip_check = re.compile(r'^(?:\\d{1,3}\\.){3}\\d{1,3}:\\d{1,5}$')\n",
    "\n",
    "\n",
    "html = BeautifulSoup(requests.get(base_url+'1.html').content, 'lxml')\n",
    "try:\n",
    "    ip_table = html.find('table', bordercolor='#6699ff')\n",
    "except Exception as e:\n",
    "    print(e)\n",
    "\n",
    "ip_table\n"
   ]
  },
  {
   "cell_type": "code",
   "execution_count": 10,
   "metadata": {},
   "outputs": [
    {
     "name": "stdout",
     "output_type": "stream",
     "text": [
      "111.155.116.196 8123\n",
      "117.78.35.194 3128\n",
      "111.155.116.209 8123\n",
      "222.128.189.115 3128\n",
      "120.132.71.212 80\n",
      "111.155.116.235 8123\n",
      "218.241.234.48 8080\n",
      "111.13.7.123 80\n",
      "111.13.7.123 80\n",
      "219.141.189.236 3128\n",
      "211.159.171.58 80\n",
      "219.235.251.15 3128\n",
      "111.155.116.237 8123\n",
      "221.219.30.214 8118\n",
      "111.13.2.138 80\n",
      "111.155.116.236 8123\n",
      "111.155.116.207 8123\n",
      "111.155.124.94 8123\n"
     ]
    }
   ],
   "source": [
    "for ip_tr in ip_table.find_all('tr')[1:]:\n",
    "    tds = ip_tr.find_all('td')\n",
    "    print(tds[0].text, tds[1].text)"
   ]
  },
  {
   "cell_type": "code",
   "execution_count": 25,
   "metadata": {},
   "outputs": [
    {
     "data": {
      "text/plain": [
       "{'http': 'http://111.13.7.122:80'}"
      ]
     },
     "execution_count": 25,
     "metadata": {},
     "output_type": "execute_result"
    }
   ],
   "source": [
    "import json\n",
    "\n",
    "with open('proxies.json') as f:\n",
    "    j = json.load(f)\n",
    "   \n",
    "import random\n",
    "p = j[random.randrange(len(j))]\n",
    "p"
   ]
  }
 ],
 "metadata": {
  "kernelspec": {
   "display_name": "Python 3",
   "language": "python",
   "name": "python3"
  },
  "language_info": {
   "codemirror_mode": {
    "name": "ipython",
    "version": 3
   },
   "file_extension": ".py",
   "mimetype": "text/x-python",
   "name": "python",
   "nbconvert_exporter": "python",
   "pygments_lexer": "ipython3",
   "version": "3.5.3"
  }
 },
 "nbformat": 4,
 "nbformat_minor": 2
}
